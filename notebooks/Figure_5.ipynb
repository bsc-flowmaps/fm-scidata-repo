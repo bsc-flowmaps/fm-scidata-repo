{
 "cells": [
  {
   "cell_type": "code",
   "execution_count": null,
   "metadata": {},
   "outputs": [],
   "source": [
    "import requests\n",
    "import json\n",
    "import pandas as pd\n",
    "from datetime import datetime, timedelta\n",
    "import pytz\n",
    "import seaborn as sns\n",
    "import matplotlib.pylab as plt\n",
    "from scipy.stats import pearsonr\n",
    "from scipy.stats import linregress\n",
    "import numpy as np\n",
    "import string\n",
    "\n",
    "tz = pytz.timezone('Europe/Madrid')"
   ]
  },
  {
   "cell_type": "code",
   "execution_count": null,
   "metadata": {},
   "outputs": [],
   "source": [
    "API_URL = \"https://flowmaps.life.bsc.es/api\"\n",
    "\n",
    "\n",
    "def fetch_all_pages(collection, query={}, batch_size=1000, projection={}):\n",
    "    base_url = API_URL\n",
    "    url = f\"{base_url}/{collection}\"\n",
    "    params = {'where': json.dumps(query), 'max_results': batch_size, 'projection': json.dumps(projection)}\n",
    "    data = []\n",
    "    response = requests.get(url, params=params).json() # get first page\n",
    "    data.extend(response['_items'])\n",
    "    if '_links' not in response:\n",
    "        return data\n",
    "    num_docs = response['_meta']['total']\n",
    "    if num_docs <= 0:\n",
    "        return data\n",
    "    while 'next' in response['_links']:\n",
    "        url = f\"{base_url}/{response['_links']['next']['href']}\"\n",
    "        response = requests.get(url).json()\n",
    "        data.extend(response['_items'])\n",
    "    return data\n",
    "\n",
    "\n",
    "def get_ids_layer(layer):\n",
    "    docs = fetch_all_pages('layers', {'layer': layer}, projection={'id': 1})\n",
    "    return sorted([doc['id'] for doc in docs])\n",
    "\n",
    "\n",
    "def get_date(date_strn):\n",
    "    date = datetime.strptime(date_strn, '%Y-%m-%d')\n",
    "    start_summer_time = datetime(date.year, 3, 29) # Spanish summer time\n",
    "    end_summer_time = datetime(date.year, 10, 25)\n",
    "    if start_summer_time <= date <= end_summer_time:\n",
    "        delta_h = timedelta(hours=2)\n",
    "    else:\n",
    "        delta_h =  timedelta(hours=1)\n",
    "    date -= delta_h\n",
    "    return date\n",
    "\n",
    "\n",
    "def date_rfc1123(date_strn):\n",
    "    \"\"\"Return a string representation of a date according to RFC 1123\n",
    "    (HTTP/1.1).\n",
    "\n",
    "    The supplied date must be in UTC.\n",
    "\n",
    "    \"\"\"\n",
    "    dt = get_date(date_strn)\n",
    "    weekday = [\"Mon\", \"Tue\", \"Wed\", \"Thu\", \"Fri\", \"Sat\", \"Sun\"][dt.weekday()]\n",
    "    month = [\"Jan\", \"Feb\", \"Mar\", \"Apr\", \"May\", \"Jun\", \"Jul\", \"Aug\", \"Sep\",\n",
    "             \"Oct\", \"Nov\", \"Dec\"][dt.month - 1]\n",
    "    return \"%s, %02d %s %04d %02d:%02d:%02d GMT\" % (weekday, dt.day, month,\n",
    "        dt.year, dt.hour, dt.minute, dt.second)\n",
    "\n",
    "\n",
    "def get_overlaps(layerl, layerm, collection='layers.overlaps'):\n",
    "    docs = fetch_all_pages(collection, {'l.layer': layerl, 'm.layer': layerm})\n",
    "    flatten_docs = []\n",
    "    for doc in docs:\n",
    "        d = {}\n",
    "        d['l_layer'] = doc['l']['layer']\n",
    "        d['m_layer'] = doc['m']['layer']\n",
    "        d['l_ratio'] = doc['l']['ratio']\n",
    "        d['m_ratio'] = doc['m']['ratio']\n",
    "        d['l_id'] = doc['l']['id']\n",
    "        d['m_id'] = doc['m']['id']\n",
    "        flatten_docs.append(d)\n",
    "    return flatten_docs\n",
    "\n",
    "\n",
    "def RMSE(x, y):\n",
    "    return np.sqrt(((x - y) ** 2).mean())"
   ]
  },
  {
   "cell_type": "code",
   "execution_count": null,
   "metadata": {},
   "outputs": [],
   "source": [
    "# get ids of the two layers\n",
    "municip_ids = get_ids_layer('cnig_municipios')\n",
    "mitma_ids = get_ids_layer('mitma_mov')"
   ]
  },
  {
   "cell_type": "code",
   "execution_count": null,
   "metadata": {},
   "outputs": [],
   "source": [
    "# get census population from cnig dataset\n",
    "df_cnig_pop = pd.DataFrame(fetch_all_pages('cnig.municipios'))\n",
    "df_cnig_pop['id'] = df_cnig_pop['cod_ine'].apply(lambda x: x[:5])\n",
    "columns = ['id', 'cod_ine', 'poblacion_muni', 'nombre_actual', 'cod_prov', 'provincia']\n",
    "df_cnig_pop = df_cnig_pop[columns]\n",
    "cnig_pop = df_cnig_pop.set_index('id')['poblacion_muni'].to_dict()"
   ]
  },
  {
   "cell_type": "code",
   "execution_count": null,
   "metadata": {},
   "outputs": [],
   "source": [
    "# get estimated population from mitma mobility dataset\n",
    "df = pd.DataFrame(fetch_all_pages('mitma_mov.zone_movements', {'evstart': date_rfc1123('2020-02-15')}))\n",
    "pop = df.groupby('id')['personas'].sum().to_dict()\n",
    "df_mitma_pop = pd.DataFrame([{'id': _id, 'pop': pop.get(_id, 0)} for _id in mitma_ids])"
   ]
  },
  {
   "cell_type": "code",
   "execution_count": null,
   "metadata": {},
   "outputs": [],
   "source": [
    "# get area overlaps and population overlaps between the two layers \n",
    "overlaps_mitma_muni_area = pd.DataFrame(get_overlaps('mitma_mov', 'cnig_municipios', 'layers.overlaps'))\n",
    "overlaps_mitma_muni_grid = pd.DataFrame(get_overlaps('cnig_municipios', 'mitma_mov', 'layers.overlaps_population'))"
   ]
  },
  {
   "cell_type": "code",
   "execution_count": null,
   "metadata": {},
   "outputs": [],
   "source": [
    "# project population using area overlaps  \n",
    "df_proj_area = df_mitma_pop.merge(overlaps_mitma_muni_area, left_on='id', right_on='l_id')\n",
    "df_proj_area['proj_pop'] = df_proj_area['pop'] * df_proj_area['l_ratio']\n",
    "pop_from_area_overlaps = df_proj_area.groupby('m_id')['proj_pop'].sum().to_dict()"
   ]
  },
  {
   "cell_type": "code",
   "execution_count": null,
   "metadata": {},
   "outputs": [],
   "source": [
    "# project population using population grid overlaps  \n",
    "df_proj_grid = df_mitma_pop.merge(overlaps_mitma_muni_grid, left_on='id', right_on='m_id')\n",
    "df_proj_grid['proj_pop'] = df_proj_grid['pop'] * df_proj_grid['m_ratio']\n",
    "pop_from_grid_overlaps = df_proj_grid.groupby('l_id')['proj_pop'].sum().to_dict()"
   ]
  },
  {
   "cell_type": "code",
   "execution_count": null,
   "metadata": {},
   "outputs": [],
   "source": [
    "# joint dataframe\n",
    "df_population = pd.DataFrame({'muni_id': municip_ids})\n",
    "df_population['pop_from_CNIG'] = df_population['muni_id'].apply(cnig_pop.get)\n",
    "df_population['pop_from_MITMA_area_overlaps'] = df_population['muni_id'].apply(pop_from_area_overlaps.get)\n",
    "df_population['pop_from_MITMA_grid_overlaps'] = df_population['muni_id'].apply(pop_from_grid_overlaps.get)\n",
    "df_population = df_population.dropna()\n",
    "df_population"
   ]
  },
  {
   "cell_type": "code",
   "execution_count": null,
   "metadata": {},
   "outputs": [],
   "source": [
    "sns.set_style('white')\n",
    "sns.set_context('paper')\n",
    "\n",
    "fig, axes = plt.subplots(1,2, figsize=(8,3), dpi=350, sharex=True, sharey=True)\n",
    "for i, k in enumerate(['pop_from_MITMA_area_overlaps', 'pop_from_MITMA_grid_overlaps']):\n",
    "    \n",
    "    X = df_population['pop_from_CNIG'].values\n",
    "    y = df_population[k].valuespop_from_MITMA_area_overlaps\n",
    "    \n",
    "   \n",
    "    r, p = pearsonr(X, y)\n",
    "    res = linregress(X, y)\n",
    "    y_predicted = X * res.slope\n",
    "    residuals = np.abs(y-y_predicted)\n",
    "    rmse = RMSE(df_population['pop_from_CNIG'], df_population[k])\n",
    "    \n",
    "    print(\"Resiudals\", np.std(residuals))\n",
    "    print(f\"R-squared: {res.rvalue**2:.6f}\")\n",
    "    print(res.intercept, res.slope)\n",
    "    print(\"%.2f  %.2E  %.2f\" % (r, p, rmse))\n",
    "\n",
    "    ax = axes[i]\n",
    "    ax.scatter(X, y, alpha=0.5, edgecolor='w', linewidth=0.5)\n",
    "    ax.plot(sorted(X), sorted(y_predicted), c='k', alpha=0.75)\n",
    "    ax.set(xscale=\"log\", yscale=\"log\")\n",
    "    ax.set_xlabel('Census population')\n",
    "    ax.text(0.022, 1.02, string.ascii_lowercase[i], fontsize=16, \n",
    "            transform=ax.transAxes, weight='bold', color='#333333')\n",
    "    if i == 0:\n",
    "        ax.set_ylabel('Estimated population')\n",
    "    \n",
    "\n",
    "fig.tight_layout()\n",
    "sns.despine(fig)"
   ]
  },
  {
   "cell_type": "code",
   "execution_count": null,
   "metadata": {},
   "outputs": [],
   "source": []
  }
 ],
 "metadata": {
  "kernelspec": {
   "display_name": "Python 3",
   "language": "python",
   "name": "python3"
  },
  "language_info": {
   "codemirror_mode": {
    "name": "ipython",
    "version": 3
   },
   "file_extension": ".py",
   "mimetype": "text/x-python",
   "name": "python",
   "nbconvert_exporter": "python",
   "pygments_lexer": "ipython3",
   "version": "3.8.5"
  }
 },
 "nbformat": 4,
 "nbformat_minor": 4
}
